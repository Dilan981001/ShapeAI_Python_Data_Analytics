{
  "nbformat": 4,
  "nbformat_minor": 0,
  "metadata": {
    "colab": {
      "name": "Titanic_Survivors.ipynb",
      "provenance": []
    },
    "kernelspec": {
      "name": "python3",
      "display_name": "Python 3"
    },
    "language_info": {
      "name": "python"
    }
  },
  "cells": [
    {
      "cell_type": "code",
      "metadata": {
        "id": "3yY51Hb-8cqN"
      },
      "source": [
        "import pandas as pd\n",
        "import numpy as np\n",
        "\n",
        "df = pd.DataFrame(pd.read_csv('/content/train (1).csv'))\n",
        "df.head()\n",
        "\n",
        "df.shape\n",
        "\n",
        "df.isnull().sum()\n",
        "\n",
        "drop_col = df.isnull().sum()[df.isnull().sum()>(35/100 * df.shape[0])]\n",
        "drop_col\n",
        "\n",
        "drop_col.index\n",
        "\n",
        "df.drop(drop_col.index, axis=1, inplace=True)\n",
        "df.isnull().sum()\n",
        "\n",
        "df.fillna(df.mean(), inplace = True)\n",
        "df.isnull().sum()\n",
        "\n",
        "df['Embarked'].describe()\n",
        "\n",
        "df['Embarked'].fillna('S',inplace=True)\n",
        "\n",
        "df.isnull().sum()\n",
        "\n",
        "df.corr()\n",
        "\n",
        "df['FamilySize'] = df['SibSp']+df['Parch']\n",
        "df.drop(['SibSp', 'Parch'], axis=1, inplace=True)\n",
        "df.corr()\n",
        "\n",
        "df['Alone'] = [0 if df['FamilySize'][i]>0 else 1 for i in df.index]\n",
        "df.head()\n",
        "\n",
        "df.groupby(['Alone'])['Survived'].mean()\n",
        "\n",
        "df[['Alone','Fare']].corr()\n",
        "\n",
        "df['Sex'] = [0 if df['Sex'][i]=='male' else 1 for i in df.index]\n",
        "df.groupby(['Sex'])['Survived'].mean()\n",
        "\n",
        "df.groupby(['Embarked'])['Survived'].mean()\n"
      ],
      "execution_count": null,
      "outputs": []
    },
    {
      "cell_type": "markdown",
      "metadata": {
        "id": "XClpH7_nl3lh"
      },
      "source": [
        "\n",
        "# CONCLUSION\n",
        "*   Female passengers were prioritized over men.\n",
        "\n",
        "\n",
        "*   People with high class or rich people have higher survuvl rate than others.the hierichy might have been followed while saving the passengers.\n",
        "\n",
        "\n",
        "\n",
        "*   Passengers travelling with their family have survival rate.\n",
        "\n",
        "\n",
        "\n",
        "*   Passengers who borded the ship at Cherbourg,survived more in proportion then the others.\n",
        "\n",
        "\n",
        "\n",
        "\n",
        "\n",
        "\n",
        "\n"
      ]
    }
  ]
}